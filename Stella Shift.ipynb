{
 "cells": [
  {
   "cell_type": "code",
   "execution_count": null,
   "metadata": {
    "collapsed": false
   },
   "outputs": [],
   "source": []
  },
  {
   "cell_type": "code",
   "execution_count": 155,
   "metadata": {
    "collapsed": true
   },
   "outputs": [],
   "source": [
    "staff_no = 8\n",
    "MONTH = 9\n",
    "YEAR = 2018"
   ]
  },
  {
   "cell_type": "code",
   "execution_count": 156,
   "metadata": {
    "collapsed": false,
    "scrolled": true
   },
   "outputs": [
    {
     "data": {
      "text/plain": [
       "6"
      ]
     },
     "execution_count": 156,
     "metadata": {},
     "output_type": "execute_result"
    }
   ],
   "source": [
    "from calendar import Calendar\n",
    "from collections import Counter\n",
    "import copy, random\n",
    "cl = Calendar()\n",
    "\n",
    "dates = [d for d in cl.itermonthdates(year=YEAR, month=MONTH) if d.month == MONTH]\n",
    "d = dates[0]\n",
    "d.isoweekday()"
   ]
  },
  {
   "cell_type": "code",
   "execution_count": 157,
   "metadata": {
    "collapsed": false
   },
   "outputs": [],
   "source": [
    "staff = {0: 'Γεωργιου',\n",
    "         1: 'Ανδρονικιδη',\n",
    "         2: 'Σμυρλη',\n",
    "         3: 'Πλαβουκου',\n",
    "         4: 'Παπανικολαου',\n",
    "         5: 'Καμμενος',\n",
    "         6: 'Βαβουρακη',\n",
    "         7: 'Μπεη'\n",
    "        }\n",
    "\n",
    "single_shift_people = [2,3,4,7,5]\n",
    "\n",
    "holidays = {0: [27, 28, 29, 30],\n",
    "            1: [8, 19, 21, 22, 23, 28, 29, 30],\n",
    "            2: [1,2,3,4,5,6,7,8,9, 12,13,14,15,28,29],\n",
    "            3: [1,2,7,8,9,13,14,15],\n",
    "            4: [1,2,3,4,5,6,7,8,12,13,15,18,20,25,27],\n",
    "            5: [1,2,13,14,15,16,17],\n",
    "            6: [1,16,17,18,19,20,21,22,23,27,28,29],\n",
    "            7: [3,6,7,8,9,10,11,12]\n",
    "            }\n",
    "\n",
    "single_shift_dates = {4, 12, 20, 24, 28}\n",
    "\n",
    "n_shifts = 2*len(dates) - len(single_shift_dates)\n",
    "shift_names = [(d,suffix) for d in dates for suffix in (['a','b'] if d.day not in single_shift_dates else ['n'])]\n",
    "shift_day = [d[0].isoweekday() for d in shift_names]\n",
    "is_weekend_shift = [s in {5,6,7} for s in shift_day]\n"
   ]
  },
  {
   "cell_type": "code",
   "execution_count": 165,
   "metadata": {
    "collapsed": false
   },
   "outputs": [],
   "source": [
    "poss = zip([d[0].day for d in shift_names], [{k for k,v in holidays.items() if (d[0].day not in v) and not((d[1]=='n') and (k not in single_shift_people))} for d in shift_names],[d[1] for d in shift_names] )\n",
    "poss = [list(p) for p in poss]\n",
    "# at least 1 fri, sat, sun each\n",
    "# Can't do two days in a row"
   ]
  },
  {
   "cell_type": "code",
   "execution_count": 166,
   "metadata": {
    "collapsed": false
   },
   "outputs": [
    {
     "data": {
      "text/plain": [
       "[[1, {0, 1, 7}, 'a'],\n",
       " [1, {0, 1, 7}, 'b'],\n",
       " [2, {0, 1, 6, 7}, 'a'],\n",
       " [2, {0, 1, 6, 7}, 'b'],\n",
       " [3, {0, 1, 3, 5, 6}, 'a'],\n",
       " [3, {0, 1, 3, 5, 6}, 'b'],\n",
       " [4, {3, 5, 7}, 'n'],\n",
       " [5, {0, 1, 3, 5, 6, 7}, 'a'],\n",
       " [5, {0, 1, 3, 5, 6, 7}, 'b'],\n",
       " [6, {0, 1, 3, 5, 6}, 'a'],\n",
       " [6, {0, 1, 3, 5, 6}, 'b'],\n",
       " [7, {0, 1, 5, 6}, 'a'],\n",
       " [7, {0, 1, 5, 6}, 'b'],\n",
       " [8, {0, 5, 6}, 'a'],\n",
       " [8, {0, 5, 6}, 'b'],\n",
       " [9, {0, 1, 4, 5, 6}, 'a'],\n",
       " [9, {0, 1, 4, 5, 6}, 'b'],\n",
       " [10, {0, 1, 2, 3, 4, 5, 6}, 'a'],\n",
       " [10, {0, 1, 2, 3, 4, 5, 6}, 'b'],\n",
       " [11, {0, 1, 2, 3, 4, 5, 6}, 'a'],\n",
       " [11, {0, 1, 2, 3, 4, 5, 6}, 'b'],\n",
       " [12, {3, 5}, 'n'],\n",
       " [13, {0, 1, 6, 7}, 'a'],\n",
       " [13, {0, 1, 6, 7}, 'b'],\n",
       " [14, {0, 1, 4, 6, 7}, 'a'],\n",
       " [14, {0, 1, 4, 6, 7}, 'b'],\n",
       " [15, {0, 1, 6, 7}, 'a'],\n",
       " [15, {0, 1, 6, 7}, 'b'],\n",
       " [16, {0, 1, 2, 3, 4, 7}, 'a'],\n",
       " [16, {0, 1, 2, 3, 4, 7}, 'b'],\n",
       " [17, {0, 1, 2, 3, 4, 7}, 'a'],\n",
       " [17, {0, 1, 2, 3, 4, 7}, 'b'],\n",
       " [18, {0, 1, 2, 3, 5, 7}, 'a'],\n",
       " [18, {0, 1, 2, 3, 5, 7}, 'b'],\n",
       " [19, {0, 2, 3, 4, 5, 7}, 'a'],\n",
       " [19, {0, 2, 3, 4, 5, 7}, 'b'],\n",
       " [20, {2, 3, 5, 7}, 'n'],\n",
       " [21, {0, 2, 3, 4, 5, 7}, 'a'],\n",
       " [21, {0, 2, 3, 4, 5, 7}, 'b'],\n",
       " [22, {0, 2, 3, 4, 5, 7}, 'a'],\n",
       " [22, {0, 2, 3, 4, 5, 7}, 'b'],\n",
       " [23, {0, 2, 3, 4, 5, 7}, 'a'],\n",
       " [23, {0, 2, 3, 4, 5, 7}, 'b'],\n",
       " [24, {2, 3, 4, 5, 7}, 'n'],\n",
       " [25, {0, 1, 2, 3, 5, 6, 7}, 'a'],\n",
       " [25, {0, 1, 2, 3, 5, 6, 7}, 'b'],\n",
       " [26, {0, 1, 2, 3, 4, 5, 6, 7}, 'a'],\n",
       " [26, {0, 1, 2, 3, 4, 5, 6, 7}, 'b'],\n",
       " [27, {1, 2, 3, 5, 7}, 'a'],\n",
       " [27, {1, 2, 3, 5, 7}, 'b'],\n",
       " [28, {3, 4, 5, 7}, 'n'],\n",
       " [29, {3, 4, 5, 7}, 'a'],\n",
       " [29, {3, 4, 5, 7}, 'b'],\n",
       " [30, {2, 3, 4, 5, 6, 7}, 'a'],\n",
       " [30, {2, 3, 4, 5, 6, 7}, 'b']]"
      ]
     },
     "execution_count": 166,
     "metadata": {},
     "output_type": "execute_result"
    }
   ],
   "source": [
    "poss"
   ]
  },
  {
   "cell_type": "code",
   "execution_count": 217,
   "metadata": {
    "collapsed": false
   },
   "outputs": [],
   "source": [
    "def generate_random_solution(poss_in, counter_in):\n",
    "    if len(poss_in) == 0:\n",
    "        raise ValueError\n",
    "        \n",
    "    if not poss_in[0][1]:\n",
    "        yield None\n",
    "    \n",
    "    choices = list(poss_in[0][1]) \n",
    "    \n",
    "    random.shuffle(choices)\n",
    "    \n",
    "    if len(poss_in) == 1:\n",
    "        for i in choices:\n",
    "            yield [i]\n",
    "    else:\n",
    "        for item in choices:\n",
    "            poss = copy.deepcopy(poss_in)\n",
    "            counter = copy.deepcopy(counter_in)\n",
    "            shift_day = poss[0][0]\n",
    "            shift_suffix = poss[0][2]\n",
    "            shift_to_remove = 0\n",
    "            counter[item] += 1\n",
    "            while True:\n",
    "                shift_to_remove += 1\n",
    "                if shift_to_remove >= len(poss):\n",
    "                    break\n",
    "                next_shift_day = poss[shift_to_remove][0]\n",
    "                if next_shift_day > shift_day + 1:\n",
    "                    break\n",
    "                else:\n",
    "                    poss[shift_to_remove][1] -= {item}\n",
    "                \n",
    "            if shift_suffix == 'n':\n",
    "                shift_to_remove = 0\n",
    "                for i,p in enumerate(poss):\n",
    "                    if p[2] == 'n':\n",
    "                        poss[i][1] -= {item}\n",
    "                        \n",
    "            if counter[item] == 7:\n",
    "                for i,p in enumerate(poss):\n",
    "                    poss[i][1] -={item}\n",
    "\n",
    "            soln = generate_random_solution(poss[1:], counter)\n",
    "            for s in soln:\n",
    "                if s:\n",
    "                    yield [item] + s\n",
    "    "
   ]
  },
  {
   "cell_type": "code",
   "execution_count": 218,
   "metadata": {
    "collapsed": false
   },
   "outputs": [],
   "source": [
    "def calculate_weekend_allowance(poss):\n",
    "    return {'Fri': Counter([p for p,s in zip(poss, shift_day) if s == 5]),\n",
    "            'Sat': Counter([p for p,s in zip(poss,shift_day) if s == 6]),\n",
    "            'Sun': Counter([p for p,s in zip(poss, shift_day) if s == 7]),\n",
    "            'Total': Counter([p for p,s in zip(poss, is_weekend_shift) if s])}\n",
    "\n",
    "def is_valid(poss):\n",
    "    wkds = calculate_weekend_allowance(poss)\n",
    "    people = staff.keys()\n",
    "    r = 0\n",
    "    for k in ['Fri', 'Sat', 'Sun']:\n",
    "        for p in people:\n",
    "            if wkds[k][p] == 0:\n",
    "                r += 1\n",
    "    \n",
    "    single_shift_people = Counter(p for p,s in zip(poss, shift_names) if shift_names[1] == 'n')\n",
    "    for k,v in single_shift_people.items():\n",
    "        if v > 1:\n",
    "            r += 20*(v-1)**2\n",
    "    \n",
    "    return r"
   ]
  },
  {
   "cell_type": "code",
   "execution_count": 221,
   "metadata": {
    "collapsed": true
   },
   "outputs": [],
   "source": [
    "c = Counter({k:0 for k in staff.keys()})\n",
    "gen = generate_random_solution(poss,c)"
   ]
  },
  {
   "cell_type": "code",
   "execution_count": 222,
   "metadata": {
    "collapsed": false,
    "scrolled": true
   },
   "outputs": [
    {
     "name": "stdout",
     "output_type": "stream",
     "text": [
      "Score: 7\n",
      "Score: 5\n",
      "Score: 4\n",
      "Score: 3\n"
     ]
    },
    {
     "ename": "KeyboardInterrupt",
     "evalue": "",
     "output_type": "error",
     "traceback": [
      "\u001b[0;31m---------------------------------------------------------------------------\u001b[0m",
      "\u001b[0;31mKeyboardInterrupt\u001b[0m                         Traceback (most recent call last)",
      "\u001b[0;32m<ipython-input-222-2d6531c294f3>\u001b[0m in \u001b[0;36m<module>\u001b[0;34m()\u001b[0m\n\u001b[1;32m      4\u001b[0m \u001b[0;32mwhile\u001b[0m \u001b[0;32mTrue\u001b[0m\u001b[0;34m:\u001b[0m\u001b[0;34m\u001b[0m\u001b[0m\n\u001b[1;32m      5\u001b[0m     \u001b[0msol\u001b[0m \u001b[0;34m=\u001b[0m \u001b[0mnext\u001b[0m\u001b[0;34m(\u001b[0m\u001b[0mgen\u001b[0m\u001b[0;34m)\u001b[0m\u001b[0;34m\u001b[0m\u001b[0m\n\u001b[0;32m----> 6\u001b[0;31m     \u001b[0mscore\u001b[0m \u001b[0;34m=\u001b[0m \u001b[0mis_valid\u001b[0m\u001b[0;34m(\u001b[0m\u001b[0msol\u001b[0m\u001b[0;34m)\u001b[0m\u001b[0;34m\u001b[0m\u001b[0m\n\u001b[0m\u001b[1;32m      7\u001b[0m     \u001b[0;32mif\u001b[0m \u001b[0mscore\u001b[0m \u001b[0;34m<\u001b[0m \u001b[0mmin_score\u001b[0m\u001b[0;34m:\u001b[0m\u001b[0;34m\u001b[0m\u001b[0m\n\u001b[1;32m      8\u001b[0m         \u001b[0mbest_solns\u001b[0m \u001b[0;34m=\u001b[0m \u001b[0;34m[\u001b[0m\u001b[0msol\u001b[0m\u001b[0;34m]\u001b[0m\u001b[0;34m\u001b[0m\u001b[0m\n",
      "\u001b[0;32m<ipython-input-218-fccfc5397f3d>\u001b[0m in \u001b[0;36mis_valid\u001b[0;34m(poss)\u001b[0m\n\u001b[1;32m      6\u001b[0m \u001b[0;34m\u001b[0m\u001b[0m\n\u001b[1;32m      7\u001b[0m \u001b[0;32mdef\u001b[0m \u001b[0mis_valid\u001b[0m\u001b[0;34m(\u001b[0m\u001b[0mposs\u001b[0m\u001b[0;34m)\u001b[0m\u001b[0;34m:\u001b[0m\u001b[0;34m\u001b[0m\u001b[0m\n\u001b[0;32m----> 8\u001b[0;31m     \u001b[0mwkds\u001b[0m \u001b[0;34m=\u001b[0m \u001b[0mcalculate_weekend_allowance\u001b[0m\u001b[0;34m(\u001b[0m\u001b[0mposs\u001b[0m\u001b[0;34m)\u001b[0m\u001b[0;34m\u001b[0m\u001b[0m\n\u001b[0m\u001b[1;32m      9\u001b[0m     \u001b[0mpeople\u001b[0m \u001b[0;34m=\u001b[0m \u001b[0mstaff\u001b[0m\u001b[0;34m.\u001b[0m\u001b[0mkeys\u001b[0m\u001b[0;34m(\u001b[0m\u001b[0;34m)\u001b[0m\u001b[0;34m\u001b[0m\u001b[0m\n\u001b[1;32m     10\u001b[0m     \u001b[0mr\u001b[0m \u001b[0;34m=\u001b[0m \u001b[0;36m0\u001b[0m\u001b[0;34m\u001b[0m\u001b[0m\n",
      "\u001b[0;32m<ipython-input-218-fccfc5397f3d>\u001b[0m in \u001b[0;36mcalculate_weekend_allowance\u001b[0;34m(poss)\u001b[0m\n\u001b[1;32m      1\u001b[0m \u001b[0;32mdef\u001b[0m \u001b[0mcalculate_weekend_allowance\u001b[0m\u001b[0;34m(\u001b[0m\u001b[0mposs\u001b[0m\u001b[0;34m)\u001b[0m\u001b[0;34m:\u001b[0m\u001b[0;34m\u001b[0m\u001b[0m\n\u001b[0;32m----> 2\u001b[0;31m     return {'Fri': Counter([p for p,s in zip(poss, shift_day) if s == 5]),\n\u001b[0m\u001b[1;32m      3\u001b[0m             \u001b[0;34m'Sat'\u001b[0m\u001b[0;34m:\u001b[0m \u001b[0mCounter\u001b[0m\u001b[0;34m(\u001b[0m\u001b[0;34m[\u001b[0m\u001b[0mp\u001b[0m \u001b[0;32mfor\u001b[0m \u001b[0mp\u001b[0m\u001b[0;34m,\u001b[0m\u001b[0ms\u001b[0m \u001b[0;32min\u001b[0m \u001b[0mzip\u001b[0m\u001b[0;34m(\u001b[0m\u001b[0mposs\u001b[0m\u001b[0;34m,\u001b[0m\u001b[0mshift_day\u001b[0m\u001b[0;34m)\u001b[0m \u001b[0;32mif\u001b[0m \u001b[0ms\u001b[0m \u001b[0;34m==\u001b[0m \u001b[0;36m6\u001b[0m\u001b[0;34m]\u001b[0m\u001b[0;34m)\u001b[0m\u001b[0;34m,\u001b[0m\u001b[0;34m\u001b[0m\u001b[0m\n\u001b[1;32m      4\u001b[0m             \u001b[0;34m'Sun'\u001b[0m\u001b[0;34m:\u001b[0m \u001b[0mCounter\u001b[0m\u001b[0;34m(\u001b[0m\u001b[0;34m[\u001b[0m\u001b[0mp\u001b[0m \u001b[0;32mfor\u001b[0m \u001b[0mp\u001b[0m\u001b[0;34m,\u001b[0m\u001b[0ms\u001b[0m \u001b[0;32min\u001b[0m \u001b[0mzip\u001b[0m\u001b[0;34m(\u001b[0m\u001b[0mposs\u001b[0m\u001b[0;34m,\u001b[0m \u001b[0mshift_day\u001b[0m\u001b[0;34m)\u001b[0m \u001b[0;32mif\u001b[0m \u001b[0ms\u001b[0m \u001b[0;34m==\u001b[0m \u001b[0;36m7\u001b[0m\u001b[0;34m]\u001b[0m\u001b[0;34m)\u001b[0m\u001b[0;34m,\u001b[0m\u001b[0;34m\u001b[0m\u001b[0m\n\u001b[1;32m      5\u001b[0m             'Total': Counter([p for p,s in zip(poss, is_weekend_shift) if s])}\n",
      "\u001b[0;32m~/.pyenv/versions/3.7.0/lib/python3.7/collections/__init__.py\u001b[0m in \u001b[0;36m__init__\u001b[0;34m(*args, **kwds)\u001b[0m\n\u001b[1;32m    563\u001b[0m         \u001b[0;32mif\u001b[0m \u001b[0mlen\u001b[0m\u001b[0;34m(\u001b[0m\u001b[0margs\u001b[0m\u001b[0;34m)\u001b[0m \u001b[0;34m>\u001b[0m \u001b[0;36m1\u001b[0m\u001b[0;34m:\u001b[0m\u001b[0;34m\u001b[0m\u001b[0m\n\u001b[1;32m    564\u001b[0m             \u001b[0;32mraise\u001b[0m \u001b[0mTypeError\u001b[0m\u001b[0;34m(\u001b[0m\u001b[0;34m'expected at most 1 arguments, got %d'\u001b[0m \u001b[0;34m%\u001b[0m \u001b[0mlen\u001b[0m\u001b[0;34m(\u001b[0m\u001b[0margs\u001b[0m\u001b[0;34m)\u001b[0m\u001b[0;34m)\u001b[0m\u001b[0;34m\u001b[0m\u001b[0m\n\u001b[0;32m--> 565\u001b[0;31m         \u001b[0msuper\u001b[0m\u001b[0;34m(\u001b[0m\u001b[0mCounter\u001b[0m\u001b[0;34m,\u001b[0m \u001b[0mself\u001b[0m\u001b[0;34m)\u001b[0m\u001b[0;34m.\u001b[0m\u001b[0m__init__\u001b[0m\u001b[0;34m(\u001b[0m\u001b[0;34m)\u001b[0m\u001b[0;34m\u001b[0m\u001b[0m\n\u001b[0m\u001b[1;32m    566\u001b[0m         \u001b[0mself\u001b[0m\u001b[0;34m.\u001b[0m\u001b[0mupdate\u001b[0m\u001b[0;34m(\u001b[0m\u001b[0;34m*\u001b[0m\u001b[0margs\u001b[0m\u001b[0;34m,\u001b[0m \u001b[0;34m**\u001b[0m\u001b[0mkwds\u001b[0m\u001b[0;34m)\u001b[0m\u001b[0;34m\u001b[0m\u001b[0m\n\u001b[1;32m    567\u001b[0m \u001b[0;34m\u001b[0m\u001b[0m\n",
      "\u001b[0;31mKeyboardInterrupt\u001b[0m: "
     ]
    }
   ],
   "source": [
    "min_score = 100\n",
    "best_solns = []\n",
    "\n",
    "while True:\n",
    "    sol = next(gen)\n",
    "    score = is_valid(sol)\n",
    "    if score < min_score:\n",
    "        best_solns = [sol]\n",
    "        min_score = score\n",
    "        print(\"Score: {}\".format(score))\n",
    "    if score == min_score:\n",
    "        best_solns.append(sol)\n",
    "        \n",
    "    if score == 0:\n",
    "        break\n",
    "\n",
    "\n"
   ]
  },
  {
   "cell_type": "code",
   "execution_count": 205,
   "metadata": {
    "collapsed": false
   },
   "outputs": [],
   "source": [
    "from itertools import groupby\n",
    "from collections import OrderedDict\n",
    "def print_solution(sol):\n",
    "    for day, people_group in groupby(zip(shift_names,sol), key=lambda x: x[0][0]):\n",
    "        print('{day}: {name}'.format(day=str(day), name=', '.join(list(staff[p[1]] for p in people_group))))\n",
    "    \n",
    "    wkd = calculate_weekend_allowance(sol)\n",
    "    \n",
    "    p_dict = {staff[k]: OrderedDict([('Παρ', wkd['Fri'][k]), ('Σαβ',wkd['Sat'][k]), ('Κυρ',wkd['Sun'][k])]) for k in staff.keys()}\n",
    "    display(pd.DataFrame(p_dict))\n",
    "    \n",
    "    totals = Counter(sol)\n",
    "    totals = {staff[k]:{'count':v} for k,v in totals.items()}\n",
    "    display(pd.DataFrame(totals))"
   ]
  },
  {
   "cell_type": "code",
   "execution_count": 223,
   "metadata": {
    "collapsed": false
   },
   "outputs": [
    {
     "data": {
      "text/plain": [
       "3649"
      ]
     },
     "execution_count": 223,
     "metadata": {},
     "output_type": "execute_result"
    }
   ],
   "source": [
    "len(best_solns)"
   ]
  },
  {
   "cell_type": "code",
   "execution_count": 224,
   "metadata": {
    "collapsed": false
   },
   "outputs": [],
   "source": [
    "from IPython.display import display\n",
    "import pandas as pd"
   ]
  },
  {
   "cell_type": "code",
   "execution_count": 228,
   "metadata": {
    "collapsed": false
   },
   "outputs": [],
   "source": [
    "def max_wkd_days(soln):\n",
    "    wkd = calculate_weekend_allowance(sol)\n",
    "    return max(max(wkd['Fri'].values()), max(wkd['Sat'].values()), max(wkd['Sun'].values()))\n",
    "    \n",
    "sol = min(best_solns, key=lambda x: max_wkd_days(x))\n"
   ]
  },
  {
   "cell_type": "code",
   "execution_count": 229,
   "metadata": {
    "collapsed": false
   },
   "outputs": [
    {
     "name": "stdout",
     "output_type": "stream",
     "text": [
      "2018-09-01: Γεωργιου, Μπεη\n",
      "2018-09-02: Ανδρονικιδη, Βαβουρακη\n",
      "2018-09-03: Καμμενος, Γεωργιου\n",
      "2018-09-04: Μπεη\n",
      "2018-09-05: Καμμενος, Βαβουρακη\n",
      "2018-09-06: Γεωργιου, Πλαβουκου\n",
      "2018-09-07: Καμμενος, Ανδρονικιδη\n",
      "2018-09-08: Γεωργιου, Βαβουρακη\n",
      "2018-09-09: Παπανικολαου, Ανδρονικιδη\n",
      "2018-09-10: Πλαβουκου, Βαβουρακη\n",
      "2018-09-11: Γεωργιου, Σμυρλη\n",
      "2018-09-12: Καμμενος\n",
      "2018-09-13: Ανδρονικιδη, Μπεη\n",
      "2018-09-14: Παπανικολαου, Βαβουρακη\n",
      "2018-09-15: Ανδρονικιδη, Γεωργιου\n",
      "2018-09-16: Μπεη, Σμυρλη\n",
      "2018-09-17: Γεωργιου, Παπανικολαου\n",
      "2018-09-18: Μπεη, Σμυρλη\n",
      "2018-09-19: Πλαβουκου, Καμμενος\n",
      "2018-09-20: Σμυρλη\n",
      "2018-09-21: Παπανικολαου, Μπεη\n",
      "2018-09-22: Σμυρλη, Πλαβουκου\n",
      "2018-09-23: Μπεη, Καμμενος\n",
      "2018-09-24: Παπανικολαου\n",
      "2018-09-25: Σμυρλη, Βαβουρακη\n",
      "2018-09-26: Παπανικολαου, Πλαβουκου\n",
      "2018-09-27: Σμυρλη, Ανδρονικιδη\n",
      "2018-09-28: Πλαβουκου\n",
      "2018-09-29: Παπανικολαου, Καμμενος\n",
      "2018-09-30: Βαβουρακη, Πλαβουκου\n"
     ]
    },
    {
     "data": {
      "text/html": [
       "<div>\n",
       "<style scoped>\n",
       "    .dataframe tbody tr th:only-of-type {\n",
       "        vertical-align: middle;\n",
       "    }\n",
       "\n",
       "    .dataframe tbody tr th {\n",
       "        vertical-align: top;\n",
       "    }\n",
       "\n",
       "    .dataframe thead th {\n",
       "        text-align: right;\n",
       "    }\n",
       "</style>\n",
       "<table border=\"1\" class=\"dataframe\">\n",
       "  <thead>\n",
       "    <tr style=\"text-align: right;\">\n",
       "      <th></th>\n",
       "      <th>Γεωργιου</th>\n",
       "      <th>Ανδρονικιδη</th>\n",
       "      <th>Σμυρλη</th>\n",
       "      <th>Πλαβουκου</th>\n",
       "      <th>Παπανικολαου</th>\n",
       "      <th>Καμμενος</th>\n",
       "      <th>Βαβουρακη</th>\n",
       "      <th>Μπεη</th>\n",
       "    </tr>\n",
       "  </thead>\n",
       "  <tbody>\n",
       "    <tr>\n",
       "      <th>Κυρ</th>\n",
       "      <td>0</td>\n",
       "      <td>2</td>\n",
       "      <td>1</td>\n",
       "      <td>1</td>\n",
       "      <td>1</td>\n",
       "      <td>1</td>\n",
       "      <td>2</td>\n",
       "      <td>2</td>\n",
       "    </tr>\n",
       "    <tr>\n",
       "      <th>Παρ</th>\n",
       "      <td>0</td>\n",
       "      <td>1</td>\n",
       "      <td>0</td>\n",
       "      <td>1</td>\n",
       "      <td>2</td>\n",
       "      <td>1</td>\n",
       "      <td>1</td>\n",
       "      <td>1</td>\n",
       "    </tr>\n",
       "    <tr>\n",
       "      <th>Σαβ</th>\n",
       "      <td>3</td>\n",
       "      <td>1</td>\n",
       "      <td>1</td>\n",
       "      <td>1</td>\n",
       "      <td>1</td>\n",
       "      <td>1</td>\n",
       "      <td>1</td>\n",
       "      <td>1</td>\n",
       "    </tr>\n",
       "  </tbody>\n",
       "</table>\n",
       "</div>"
      ],
      "text/plain": [
       "     Γεωργιου  Ανδρονικιδη  Σμυρλη  Πλαβουκου  Παπανικολαου  Καμμενος  \\\n",
       "Κυρ         0            2       1          1             1         1   \n",
       "Παρ         0            1       0          1             2         1   \n",
       "Σαβ         3            1       1          1             1         1   \n",
       "\n",
       "     Βαβουρακη  Μπεη  \n",
       "Κυρ          2     2  \n",
       "Παρ          1     1  \n",
       "Σαβ          1     1  "
      ]
     },
     "metadata": {},
     "output_type": "display_data"
    },
    {
     "data": {
      "text/html": [
       "<div>\n",
       "<style scoped>\n",
       "    .dataframe tbody tr th:only-of-type {\n",
       "        vertical-align: middle;\n",
       "    }\n",
       "\n",
       "    .dataframe tbody tr th {\n",
       "        vertical-align: top;\n",
       "    }\n",
       "\n",
       "    .dataframe thead th {\n",
       "        text-align: right;\n",
       "    }\n",
       "</style>\n",
       "<table border=\"1\" class=\"dataframe\">\n",
       "  <thead>\n",
       "    <tr style=\"text-align: right;\">\n",
       "      <th></th>\n",
       "      <th>Γεωργιου</th>\n",
       "      <th>Μπεη</th>\n",
       "      <th>Ανδρονικιδη</th>\n",
       "      <th>Βαβουρακη</th>\n",
       "      <th>Καμμενος</th>\n",
       "      <th>Πλαβουκου</th>\n",
       "      <th>Παπανικολαου</th>\n",
       "      <th>Σμυρλη</th>\n",
       "    </tr>\n",
       "  </thead>\n",
       "  <tbody>\n",
       "    <tr>\n",
       "      <th>count</th>\n",
       "      <td>7</td>\n",
       "      <td>7</td>\n",
       "      <td>6</td>\n",
       "      <td>7</td>\n",
       "      <td>7</td>\n",
       "      <td>7</td>\n",
       "      <td>7</td>\n",
       "      <td>7</td>\n",
       "    </tr>\n",
       "  </tbody>\n",
       "</table>\n",
       "</div>"
      ],
      "text/plain": [
       "       Γεωργιου  Μπεη  Ανδρονικιδη  Βαβουρακη  Καμμενος  Πλαβουκου  \\\n",
       "count         7     7            6          7         7          7   \n",
       "\n",
       "       Παπανικολαου  Σμυρλη  \n",
       "count             7       7  "
      ]
     },
     "metadata": {},
     "output_type": "display_data"
    }
   ],
   "source": [
    "print_solution(sol)"
   ]
  },
  {
   "cell_type": "code",
   "execution_count": null,
   "metadata": {
    "collapsed": true
   },
   "outputs": [],
   "source": []
  }
 ],
 "metadata": {
  "kernelspec": {
   "display_name": "Greekdict",
   "language": "python",
   "name": "greekdict"
  },
  "language_info": {
   "codemirror_mode": {
    "name": "ipython",
    "version": 3
   },
   "file_extension": ".py",
   "mimetype": "text/x-python",
   "name": "python",
   "nbconvert_exporter": "python",
   "pygments_lexer": "ipython3",
   "version": "3.7.0"
  }
 },
 "nbformat": 4,
 "nbformat_minor": 2
}
